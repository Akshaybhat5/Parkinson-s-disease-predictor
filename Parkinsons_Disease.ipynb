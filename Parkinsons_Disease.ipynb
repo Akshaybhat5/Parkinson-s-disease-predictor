{
  "nbformat": 4,
  "nbformat_minor": 0,
  "metadata": {
    "colab": {
      "name": "Parkinsons Disease.ipynb",
      "private_outputs": true,
      "provenance": []
    },
    "kernelspec": {
      "name": "python3",
      "display_name": "Python 3"
    },
    "language_info": {
      "name": "python"
    }
  },
  "cells": [
    {
      "cell_type": "markdown",
      "metadata": {
        "id": "f6ONGTxtOTk3"
      },
      "source": [
        "**PARKINSON'S DISEASE PREDICTOR**"
      ]
    },
    {
      "cell_type": "code",
      "metadata": {
        "id": "DyCSwAuV2ONT"
      },
      "source": [
        "import pandas as pd\n",
        "import matplotlib.pyplot as plt\n",
        "import seaborn as sns\n",
        "import numpy as np\n",
        "\n",
        "\n",
        "from sklearn.model_selection import train_test_split\n",
        "from sklearn.linear_model import LogisticRegression\n",
        "from sklearn.metrics import accuracy_score, confusion_matrix, classification_report\n",
        "from sklearn.tree import DecisionTreeClassifier\n",
        "from sklearn.ensemble import RandomForestClassifier\n",
        "from sklearn.neighbors import KNeighborsClassifier\n",
        "from sklearn.naive_bayes import GaussianNB"
      ],
      "execution_count": null,
      "outputs": []
    },
    {
      "cell_type": "code",
      "metadata": {
        "id": "Qs_BMovC3enb"
      },
      "source": [
        "# extracting the dataset\n",
        "data = pd.read_csv('parkinsons.csv')"
      ],
      "execution_count": null,
      "outputs": []
    },
    {
      "cell_type": "code",
      "metadata": {
        "id": "Jzh46nm-3m0n"
      },
      "source": [
        "data.head()"
      ],
      "execution_count": null,
      "outputs": []
    },
    {
      "cell_type": "code",
      "metadata": {
        "id": "QgNj3usk3onb"
      },
      "source": [
        "# Heat-map to understand the correlation between the variables\n",
        "plt.figure(figsize=(15,15))\n",
        "correlation = data.corr()\n",
        "sns.heatmap(correlation, annot=True)\n",
        "plt.title('HEAT-MAP', fontweight='bold')\n",
        "plt.tight_layout()\n"
      ],
      "execution_count": null,
      "outputs": []
    },
    {
      "cell_type": "code",
      "metadata": {
        "id": "xNzMhrPA4J4r"
      },
      "source": [
        "# Name is not relevent when compared to other variables, so, let's remove Name from the dataframe\n",
        "data.drop('name', axis=1, inplace=True)"
      ],
      "execution_count": null,
      "outputs": []
    },
    {
      "cell_type": "code",
      "metadata": {
        "id": "sJ4y5nR94pj6"
      },
      "source": [
        "data.head(10)"
      ],
      "execution_count": null,
      "outputs": []
    },
    {
      "cell_type": "code",
      "metadata": {
        "id": "QBzbziPy4t4E"
      },
      "source": [
        "# let's rearrange the columns in the dataframe\n",
        "data.columns"
      ],
      "execution_count": null,
      "outputs": []
    },
    {
      "cell_type": "code",
      "metadata": {
        "id": "-o4YGOt941pe"
      },
      "source": [
        "col = ['status','MDVP:Fo(Hz)', 'MDVP:Fhi(Hz)', 'MDVP:Flo(Hz)', 'MDVP:Jitter(%)',\n",
        "       'MDVP:Jitter(Abs)', 'MDVP:RAP', 'MDVP:PPQ', 'Jitter:DDP',\n",
        "       'MDVP:Shimmer', 'MDVP:Shimmer(dB)', 'Shimmer:APQ3', 'Shimmer:APQ5',\n",
        "       'MDVP:APQ', 'Shimmer:DDA', 'NHR', 'HNR', 'RPDE', 'DFA',\n",
        "       'spread1', 'spread2', 'D2', 'PPE']"
      ],
      "execution_count": null,
      "outputs": []
    },
    {
      "cell_type": "code",
      "metadata": {
        "id": "Gv6USuCg5I_4"
      },
      "source": [
        "re_arranged_data = data[col]"
      ],
      "execution_count": null,
      "outputs": []
    },
    {
      "cell_type": "code",
      "metadata": {
        "id": "gPjp9kAo5Nd2"
      },
      "source": [
        "re_arranged_data.head()"
      ],
      "execution_count": null,
      "outputs": []
    },
    {
      "cell_type": "code",
      "metadata": {
        "id": "jOY-hM9_5PkA"
      },
      "source": [
        "re_arranged_data.info()"
      ],
      "execution_count": null,
      "outputs": []
    },
    {
      "cell_type": "code",
      "metadata": {
        "id": "ctJHo_YS5S-T"
      },
      "source": [
        "re_arranged_data.isnull().sum()"
      ],
      "execution_count": null,
      "outputs": []
    },
    {
      "cell_type": "code",
      "metadata": {
        "id": "q7YYlGST5Wwt"
      },
      "source": [
        "# Luckily none of the data is missing."
      ],
      "execution_count": null,
      "outputs": []
    },
    {
      "cell_type": "code",
      "metadata": {
        "id": "sJfLxoohAJKD"
      },
      "source": [
        "data['D2'].hist(bins=30, color='red')\n",
        "plt.title('D2', fontweight='bold')\n",
        "plt.tight_layout()"
      ],
      "execution_count": null,
      "outputs": []
    },
    {
      "cell_type": "code",
      "metadata": {
        "id": "DhpK17OV5ocN"
      },
      "source": [
        "re_arranged_data.describe()"
      ],
      "execution_count": null,
      "outputs": []
    },
    {
      "cell_type": "code",
      "metadata": {
        "id": "jWmXkFIp5s3F"
      },
      "source": [
        "# checking, is there any outliers in certain variables?\n",
        "plt.figure(figsize=(8,8))\n",
        "sns.set_theme(style='darkgrid')\n",
        "sns.distplot(re_arranged_data['MDVP:Fo(Hz)'])\n",
        "plt.tight_layout()"
      ],
      "execution_count": null,
      "outputs": []
    },
    {
      "cell_type": "code",
      "metadata": {
        "id": "N40LcD7N7g7r"
      },
      "source": [
        "# MIN-88\n",
        "# MAX-260"
      ],
      "execution_count": null,
      "outputs": []
    },
    {
      "cell_type": "code",
      "metadata": {
        "id": "dIahrt326PZ-"
      },
      "source": [
        "# checking, is there any outliers in certain variables?\n",
        "plt.figure(figsize=(8,8))\n",
        "sns.distplot(re_arranged_data['MDVP:Fhi(Hz)'])\n",
        "plt.tight_layout()"
      ],
      "execution_count": null,
      "outputs": []
    },
    {
      "cell_type": "code",
      "metadata": {
        "id": "91YXfbhq7ZZy"
      },
      "source": [
        "# MIN-102\n",
        "# MAX-592"
      ],
      "execution_count": null,
      "outputs": []
    },
    {
      "cell_type": "code",
      "metadata": {
        "id": "DE_iIrTZ6inQ"
      },
      "source": [
        "# checking, is there any outliers in certain variables?\n",
        "plt.figure(figsize=(8,8))\n",
        "sns.distplot(re_arranged_data['MDVP:Flo(Hz)'])\n",
        "plt.tight_layout()"
      ],
      "execution_count": null,
      "outputs": []
    },
    {
      "cell_type": "code",
      "metadata": {
        "id": "JMnRV_bK6zuq"
      },
      "source": [
        "# MIN-65\n",
        "# MAX-239"
      ],
      "execution_count": null,
      "outputs": []
    },
    {
      "cell_type": "code",
      "metadata": {
        "id": "CFpC_j6-6_ap"
      },
      "source": [
        "# checking, is there any outliers in certain variables?\n",
        "plt.figure(figsize=(8,8))\n",
        "sns.set_theme(style='darkgrid')\n",
        "sns.distplot(re_arranged_data['HNR'])\n",
        "plt.tight_layout()"
      ],
      "execution_count": null,
      "outputs": []
    },
    {
      "cell_type": "code",
      "metadata": {
        "id": "ddloRPMG7LVm"
      },
      "source": [
        "# MIN-8\n",
        "# MAX-33"
      ],
      "execution_count": null,
      "outputs": []
    },
    {
      "cell_type": "code",
      "metadata": {
        "id": "muEKv_BU7V-T"
      },
      "source": [
        "# There is no outliers exist"
      ],
      "execution_count": null,
      "outputs": []
    },
    {
      "cell_type": "code",
      "metadata": {
        "id": "UFHioTG27vWA"
      },
      "source": [
        "# let's check for the vif assumptions\n",
        "from statsmodels.stats.outliers_influence import variance_inflation_factor\n",
        "\n",
        "# create variable for the vif\n",
        "variable = re_arranged_data[['MDVP:Fo(Hz)', 'MDVP:Fhi(Hz)', 'MDVP:Flo(Hz)', 'MDVP:Jitter(%)',\n",
        "       'MDVP:Jitter(Abs)', 'MDVP:RAP', 'MDVP:PPQ', 'Jitter:DDP',\n",
        "       'MDVP:Shimmer', 'MDVP:Shimmer(dB)', 'Shimmer:APQ3', 'Shimmer:APQ5',\n",
        "       'MDVP:APQ', 'Shimmer:DDA', 'NHR', 'HNR', 'RPDE', 'DFA',\n",
        "       'spread1', 'spread2', 'D2', 'PPE']]\n",
        "\n",
        "vif = pd.DataFrame()\n",
        "vif['VIF'] = [variance_inflation_factor(variable.values, i) for i in range(variable.shape[1])]\n",
        "vif['features'] = variable.columns\n",
        "vif"
      ],
      "execution_count": null,
      "outputs": []
    },
    {
      "cell_type": "code",
      "metadata": {
        "id": "5W3JKSnr8w4X"
      },
      "source": [
        "# All the variables are important and relevent"
      ],
      "execution_count": null,
      "outputs": []
    },
    {
      "cell_type": "code",
      "metadata": {
        "id": "4W_VjLgM9CnG"
      },
      "source": [
        "preprocessed_data = re_arranged_data"
      ],
      "execution_count": null,
      "outputs": []
    },
    {
      "cell_type": "code",
      "metadata": {
        "id": "tdLPZBAA9KuB"
      },
      "source": [
        "y = preprocessed_data['status']\n",
        "X = preprocessed_data.drop('status',axis=1)"
      ],
      "execution_count": null,
      "outputs": []
    },
    {
      "cell_type": "code",
      "metadata": {
        "id": "d2CelWI_9U-p"
      },
      "source": [
        "y"
      ],
      "execution_count": null,
      "outputs": []
    },
    {
      "cell_type": "code",
      "metadata": {
        "id": "xpEFY2FI9V3I"
      },
      "source": [
        "X"
      ],
      "execution_count": null,
      "outputs": []
    },
    {
      "cell_type": "code",
      "metadata": {
        "id": "ossKxh919XPJ"
      },
      "source": [
        "# let's scale the data into standard form\n",
        "\n",
        "from sklearn.preprocessing import StandardScaler\n",
        "scalar = StandardScaler()\n",
        "X = scalar.fit_transform(X)"
      ],
      "execution_count": null,
      "outputs": []
    },
    {
      "cell_type": "code",
      "metadata": {
        "id": "Ql1xzctB9ydK"
      },
      "source": [
        "X"
      ],
      "execution_count": null,
      "outputs": []
    },
    {
      "cell_type": "code",
      "metadata": {
        "id": "IAf3B-9X9zTZ"
      },
      "source": [
        "# let's split the data into train test and split\n",
        "X_train, X_test, y_train, y_test = train_test_split(X, y, test_size=0.2, random_state=365)"
      ],
      "execution_count": null,
      "outputs": []
    },
    {
      "cell_type": "code",
      "metadata": {
        "id": "F2A-rkD-98d4"
      },
      "source": [
        "X_train.shape, X_test.shape"
      ],
      "execution_count": null,
      "outputs": []
    },
    {
      "cell_type": "code",
      "metadata": {
        "id": "CgH_P-se-IN-"
      },
      "source": [
        "# let's instantiate one by one model\n",
        "log_regression = LogisticRegression(random_state=365)\n",
        "log_regression.fit(X_train, y_train)"
      ],
      "execution_count": null,
      "outputs": []
    },
    {
      "cell_type": "code",
      "metadata": {
        "id": "1MXv5Z5L--B5"
      },
      "source": [
        "log_output = log_regression.predict(X_test)"
      ],
      "execution_count": null,
      "outputs": []
    },
    {
      "cell_type": "code",
      "metadata": {
        "id": "oSA370T-_D4h"
      },
      "source": [
        "log_output"
      ],
      "execution_count": null,
      "outputs": []
    },
    {
      "cell_type": "code",
      "metadata": {
        "id": "IulJ1PZn_FK5"
      },
      "source": [
        "# let's calculate the accuracy score, draw insights from confusion matrix\n",
        "cm = confusion_matrix(y_test, log_output)\n",
        "acc = accuracy_score(y_test, log_output)\n",
        "cl = classification_report(y_test, log_output)\n",
        "\n",
        "print(f'''The confusion metrix is: \n",
        "{cm}''')\n",
        "print(f'''The accuracy score of the LOGISTIC REGRESSION IS: {round(acc, 6)*100}%''')\n",
        "print(f'''The classification report is: \n",
        "{cl}''')"
      ],
      "execution_count": null,
      "outputs": []
    },
    {
      "cell_type": "code",
      "metadata": {
        "id": "0rQBHsDb_18A"
      },
      "source": [
        "# let's instantiate Randomforest\n",
        "\n",
        "random_forest = RandomForestClassifier(n_estimators=100, criterion='gini',random_state=365)\n",
        "random_forest.fit(X_train, y_train)"
      ],
      "execution_count": null,
      "outputs": []
    },
    {
      "cell_type": "code",
      "metadata": {
        "id": "Vg0tXq9WA0B6"
      },
      "source": [
        "out_random_forest = random_forest.predict(X_test)"
      ],
      "execution_count": null,
      "outputs": []
    },
    {
      "cell_type": "code",
      "metadata": {
        "id": "P28eRQ_3A46-"
      },
      "source": [
        "out_random_forest"
      ],
      "execution_count": null,
      "outputs": []
    },
    {
      "cell_type": "code",
      "metadata": {
        "id": "eIos2WhaA6KC"
      },
      "source": [
        "# let's calculate the accuracy score, draw insights from confusion matrix\n",
        "cm = confusion_matrix(y_test, out_random_forest)\n",
        "acc = accuracy_score(y_test, out_random_forest)\n",
        "cl = classification_report(y_test, out_random_forest)\n",
        "\n",
        "print(f'''The confusion metrix is: \n",
        "{cm}''')\n",
        "print(f'''The accuracy score of the RANDOMFOREST CLASSIFIER IS: {round(acc, 6)*100}%''')\n",
        "print(f'''The classification report is: \n",
        "{cl}''')"
      ],
      "execution_count": null,
      "outputs": []
    },
    {
      "cell_type": "code",
      "metadata": {
        "id": "OJYubK0jBGBh"
      },
      "source": [
        "# let's instantiate decision tree classifier\n",
        "\n",
        "tree = DecisionTreeClassifier()\n",
        "tree.fit(X_train, y_train)"
      ],
      "execution_count": null,
      "outputs": []
    },
    {
      "cell_type": "code",
      "metadata": {
        "id": "Y5hSiAKpGDow"
      },
      "source": [
        "tree_output = tree.predict(X_test)"
      ],
      "execution_count": null,
      "outputs": []
    },
    {
      "cell_type": "code",
      "metadata": {
        "id": "AUngFnNsGHiP"
      },
      "source": [
        "tree_output"
      ],
      "execution_count": null,
      "outputs": []
    },
    {
      "cell_type": "code",
      "metadata": {
        "id": "XsxQj76tGI6D"
      },
      "source": [
        "# let's calculate the accuracy score, draw insights from confusion matrix\n",
        "cm = confusion_matrix(y_test, tree_output)\n",
        "acc = accuracy_score(y_test, tree_output)\n",
        "cl = classification_report(y_test, tree_output)\n",
        "\n",
        "print(f'''The confusion metrix is: \n",
        "{cm}''')\n",
        "print(f'''The accuracy score of the DECISIONTREE CLASSIFIER IS: {round(acc, 6)*100}%''')\n",
        "print(f'''The classification report is: \n",
        "{cl}''')"
      ],
      "execution_count": null,
      "outputs": []
    },
    {
      "cell_type": "code",
      "metadata": {
        "id": "IEgcC5jLGTE4"
      },
      "source": [
        "# let's instantiate naive baiyes\n",
        "\n",
        "naive = GaussianNB()\n",
        "naive.fit(X_train, y_train)"
      ],
      "execution_count": null,
      "outputs": []
    },
    {
      "cell_type": "code",
      "metadata": {
        "id": "5h3of4rGG8WU"
      },
      "source": [
        "naive_out = naive.predict(X_test)"
      ],
      "execution_count": null,
      "outputs": []
    },
    {
      "cell_type": "code",
      "metadata": {
        "id": "sI8PUYaAHC6a"
      },
      "source": [
        "naive_out"
      ],
      "execution_count": null,
      "outputs": []
    },
    {
      "cell_type": "code",
      "metadata": {
        "id": "qOT0UZMwHD95"
      },
      "source": [
        "# let's calculate the accuracy score, draw insights from confusion matrix\n",
        "cm = confusion_matrix(y_test, naive_out)\n",
        "acc = accuracy_score(y_test, naive_out)\n",
        "cl = classification_report(y_test, naive_out)\n",
        "\n",
        "print(f'''The confusion metrix is: \n",
        "{cm}''')\n",
        "print(f'''The accuracy score of the GAUSSIAN NB IS: {round(acc, 6)*100}%''')\n",
        "print(f'''The classification report is: \n",
        "{cl}''')"
      ],
      "execution_count": null,
      "outputs": []
    },
    {
      "cell_type": "code",
      "metadata": {
        "id": "3J0g8J3ZHQ3J"
      },
      "source": [
        "# let's instantiate KNeighbour classifier\n",
        "\n",
        "k_neighbour = KNeighborsClassifier(n_neighbors=5, algorithm='auto',weights='uniform')\n",
        "k_neighbour.fit(X_train, y_train)"
      ],
      "execution_count": null,
      "outputs": []
    },
    {
      "cell_type": "code",
      "metadata": {
        "id": "MnBXY4ZpHtks"
      },
      "source": [
        "k_neighbour_out = k_neighbour.predict(X_test)"
      ],
      "execution_count": null,
      "outputs": []
    },
    {
      "cell_type": "code",
      "metadata": {
        "id": "rcEv9o6CHyJH"
      },
      "source": [
        "k_neighbour_out"
      ],
      "execution_count": null,
      "outputs": []
    },
    {
      "cell_type": "code",
      "metadata": {
        "id": "EVNk21TOH00r"
      },
      "source": [
        "# let's calculate the accuracy score, draw insights from confusion matrix\n",
        "cm = confusion_matrix(y_test, k_neighbour_out)\n",
        "acc = accuracy_score(y_test, k_neighbour_out)\n",
        "cl = classification_report(y_test, k_neighbour_out)\n",
        "\n",
        "print(f'''The confusion metrix is: \n",
        "{cm}''')\n",
        "print(f'''The accuracy score of the LOGISTIC REGRESSION IS: {round(acc, 6)*100}%''')\n",
        "print(f'''The classification report is: \n",
        "{cl}''')"
      ],
      "execution_count": null,
      "outputs": []
    },
    {
      "cell_type": "code",
      "metadata": {
        "id": "4ikNpcgcH6Xr"
      },
      "source": [
        "all_features = [['LOGISTIC REGRESSION', '92.30%'], ['KNEIGHBOR CLASSIFIER','89.74%'], ['GUASSIAN NB', '71.79%'],\n",
        "                ['DECISIONTREE CLASSIFIER', '89.74%'], ['RANDOMFOREST CLASSIFIER', '92.30%']]"
      ],
      "execution_count": null,
      "outputs": []
    },
    {
      "cell_type": "code",
      "metadata": {
        "id": "J34ntUOGLvue"
      },
      "source": [
        "all_features"
      ],
      "execution_count": null,
      "outputs": []
    },
    {
      "cell_type": "code",
      "metadata": {
        "id": "HDVUGOS6LxPa"
      },
      "source": [
        "data_frame = pd.DataFrame(all_features, columns=['ML MODEL','ACCURACY SCORE'])"
      ],
      "execution_count": null,
      "outputs": []
    },
    {
      "cell_type": "code",
      "metadata": {
        "id": "7I7SozwSL7sI"
      },
      "source": [
        "data_frame.sort_values(ascending=False, by='ACCURACY SCORE')"
      ],
      "execution_count": null,
      "outputs": []
    },
    {
      "cell_type": "code",
      "metadata": {
        "id": "OjQ91iKdL8_w"
      },
      "source": [
        "# function to find the maximum accuracy& ML MOdel in the dataframe\n",
        "def max_finder(frame):\n",
        "  for index, row in frame.iterrows():\n",
        "    if row[1] >= '90%':\n",
        "      print(row[0], row[1])"
      ],
      "execution_count": null,
      "outputs": []
    },
    {
      "cell_type": "code",
      "metadata": {
        "id": "DoD0YISrNAaz"
      },
      "source": [
        "max_finder(data_frame)"
      ],
      "execution_count": null,
      "outputs": []
    },
    {
      "cell_type": "code",
      "metadata": {
        "id": "VABVaibONCXA"
      },
      "source": [
        "# let's use randomforest model as it's better fits to the problem\n",
        "\n",
        "import joblib\n",
        "joblib.dump(random_forest, 'parkinson_disease_prediction_model.joblib')"
      ],
      "execution_count": null,
      "outputs": []
    },
    {
      "cell_type": "code",
      "metadata": {
        "id": "mgzDhTf0OLRU"
      },
      "source": [
        ""
      ],
      "execution_count": null,
      "outputs": []
    }
  ]
}